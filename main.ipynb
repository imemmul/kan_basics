{
 "cells": [
  {
   "cell_type": "markdown",
   "metadata": {},
   "source": [
    "# understanding splines and bezier curves first"
   ]
  },
  {
   "cell_type": "code",
   "execution_count": 3,
   "metadata": {},
   "outputs": [],
   "source": [
    "#only numpy implementation\n",
    "\n",
    "import numpy as np\n",
    "import matplotlib.pyplot as plt"
   ]
  },
  {
   "cell_type": "code",
   "execution_count": 6,
   "metadata": {},
   "outputs": [
    {
     "data": {
      "image/png": "[encoded data removed]",
      "text/plain": [
       "<Figure size 400x300 with 1 Axes>"
      ]
     },
     "metadata": {},
     "output_type": "display_data"
    }
   ],
   "source": [
    "import numpy as np\n",
    "import matplotlib.pyplot as plt\n",
    "x = np.linspace(-1, 1, 1000)\n",
    "y = .5 * np.sin(4*x) * np.exp(-x**2) + .5\n",
    "\n",
    "fig, ax = plt.subplots(figsize=(4, 3))\n",
    "ax.plot(x, y, 'o', color='b')\n",
    "ax.set_title(\"playground data\")\n",
    "ax.grid()\n",
    "fig.tight_layout()"
   ]
  },
  {
   "cell_type": "code",
   "execution_count": 7,
   "metadata": {},
   "outputs": [
    {
     "name": "stdout",
     "output_type": "stream",
     "text": [
      "grid shape (10,), values: [-1.         -0.77777778 -0.55555556 -0.33333333 -0.11111111  0.11111111\n",
      "  0.33333333  0.55555556  0.77777778  1.        ]\n",
      "x shape (1000,), values: [-1.         -0.997998   -0.995996   -0.99399399 -0.99199199]\n"
     ]
    }
   ],
   "source": [
    "grid = np.linspace(-1, 1, 10)\n",
    "print(f\"grid shape {grid.shape}, values: {grid}\")\n",
    "print(f\"x shape {x.shape}, values: {x[:5]}\")"
   ]
  },
  {
   "cell_type": "markdown",
   "metadata": {},
   "source": [
    "General higher order basis function formula $$ N_{i,k}(x) = \\frac{x - t_i}{t_{i+k} - t_i} N_{i,k-1}(x) + \\frac{t_{i+k+1} - x}{t_{i+k+1} - t_{i+1}} N_{i+1,k-1}(x) $$"
   ]
  },
  {
   "cell_type": "code",
   "execution_count": 12,
   "metadata": {},
   "outputs": [
    {
     "name": "stdout",
     "output_type": "stream",
     "text": [
      "grid shape (1, 10), values: [[-1.         -0.77777778 -0.55555556 -0.33333333 -0.11111111  0.11111111\n",
      "   0.33333333  0.55555556  0.77777778  1.        ]]\n",
      "x shape (1000, 1), values: [[-1.        ]\n",
      " [-0.997998  ]\n",
      " [-0.995996  ]\n",
      " [-0.99399399]\n",
      " [-0.99199199]]\n"
     ]
    }
   ],
   "source": [
    "grid_ = grid.reshape(1, -1)\n",
    "x_ = x.reshape(-1, 1)\n",
    "print(f\"grid shape {grid_.shape}, values: {grid_}\")\n",
    "print(f\"x shape {x_.shape}, values: {x_[:5]}\")"
   ]
  },
  {
   "cell_type": "code",
   "execution_count": 16,
   "metadata": {},
   "outputs": [],
   "source": [
    "# recursive spline formulation\n",
    "\n",
    "# order 0, piecewise constant function\n",
    "k = 0\n",
    "value1 = (x_ >= grid_[:,:-1]) * (x_ < grid_[:, 1:]) #base case, if 1 if  x  lies within the interval [t_i, t_{i+1}) and 0 otherwise.\n",
    "\n",
    "k = 1 # order 1\n",
    "value21 = (x_ - grid_[:, :-(k+1)]) / (grid_[:, 1:-k] - grid_[:, :-(k+1)]) * value1[:, :-1]\n",
    "value22 = (grid_[:, (k+1):] - x_) / (grid_[:, (k+1):] - grid_[:, 1:-k]) * value1[:, 1:]\n",
    "value2 = value21 + value22\n",
    "\n",
    "k = 2 # order 2\n",
    "value31 = (x_ - grid_[:, :-(k+1)]) / (grid_[:, 1:-k] - grid_[:, :-(k+1)]) * value2[:, :-1]\n",
    "value32 = (grid_[:, (k+1):] - x_) / (grid_[:, (k+1):] - grid_[:, 1:-k]) * value2[:, 1:]\n",
    "value3 = value31 + value32\n",
    "\n",
    "k = 3 # order 3\n",
    "value41 = (x_ - grid_[:, :-(k+1)]) / (grid_[:, 1:-k] - grid_[:, :-(k+1)]) * value3[:, :-1]\n",
    "value42 = (grid_[:, (k+1):] - x_) / (grid_[:, (k+1):] - grid_[:, 1:-k]) * value3[:, 1:]\n",
    "value4 = value41 + value42"
   ]
  },
  {
   "cell_type": "code",
   "execution_count": 17,
   "metadata": {},
   "outputs": [
    {
     "name": "stdout",
     "output_type": "stream",
     "text": [
      "k=0, number of basis functions: 9\n",
      "k=1, number of basis functions: 8\n",
      "k=2, number of basis functions: 7\n",
      "k=3, number of basis functions: 6\n"
     ]
    }
   ],
   "source": [
    "print(f\"k=0, number of basis functions: {value1.shape[-1]}\")\n",
    "print(f\"k=1, number of basis functions: {value2.shape[-1]}\")\n",
    "print(f\"k=2, number of basis functions: {value3.shape[-1]}\")\n",
    "print(f\"k=3, number of basis functions: {value4.shape[-1]}\")"
   ]
  },
  {
   "cell_type": "code",
   "execution_count": null,
   "metadata": {},
   "outputs": [],
   "source": [
    "fig, axs = plt.subplots(ncols=2, nrows=2, figsize=(8, 6), dpi=100)\n",
    "n_plot = 4\n",
    "basis_funcs = [(value1, \"k=0\"), (value2, \"k=1\"), (value3, \"k=2\"), (value4, \"k=3\")]\n",
    "for i, (basis, title) in enumerate(basis_funcs):\n",
    "    ax = axs[i//2, i%2]\n",
    "    ax.plot(x, basis[:5])\n",
    "    ax.set_title(title)\n",
    "    ax.grid()"
   ]
  },
  {
   "cell_type": "code",
   "execution_count": null,
   "metadata": {},
   "outputs": [],
   "source": []
  },
  {
   "cell_type": "code",
   "execution_count": null,
   "metadata": {},
   "outputs": [],
   "source": []
  },
  {
   "cell_type": "code",
   "execution_count": null,
   "metadata": {},
   "outputs": [],
   "source": []
  }
 ],
 "metadata": {
  "kernelspec": {
   "display_name": "pykan-env",
   "language": "python",
   "name": "python3"
  },
  "language_info": {
   "codemirror_mode": {
    "name": "ipython",
    "version": 3
   },
   "file_extension": ".py",
   "mimetype": "text/x-python",
   "name": "python",
   "nbconvert_exporter": "python",
   "pygments_lexer": "ipython3",
   "version": "3.9.7"
  }
 },
 "nbformat": 4,
 "nbformat_minor": 2
}
