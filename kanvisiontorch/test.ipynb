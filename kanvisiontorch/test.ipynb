{
 "cells": [
  {
   "cell_type": "code",
   "execution_count": 1,
   "metadata": {},
   "outputs": [],
   "source": [
    "from convs import KANClassification\n",
    "import torch"
   ]
  },
  {
   "cell_type": "code",
   "execution_count": 2,
   "metadata": {},
   "outputs": [],
   "source": [
    "layers = torch.nn.ModuleList()"
   ]
  },
  {
   "cell_type": "code",
   "execution_count": 3,
   "metadata": {},
   "outputs": [],
   "source": [
    "conv_layers = torch.nn.ModuleList([\n",
    "                            torch.nn.Conv2d(1, 2, kernel_size=3, stride=1, padding=0),\n",
    "                            torch.nn.MaxPool2d(3),\n",
    "                            torch.nn.Conv2d(2, 2, kernel_size=3, stride=1, padding=0),\n",
    "                        ])\n",
    "linear1 = torch.nn.Linear(72, 36)\n",
    "linear2 = torch.nn.Linear(36, 10)"
   ]
  },
  {
   "cell_type": "code",
   "execution_count": 4,
   "metadata": {},
   "outputs": [],
   "source": [
    "x = torch.randn(32, 1, 28, 28)\n",
    "for layer in conv_layers:\n",
    "    x = layer(x)\n",
    "\n",
    "linear1_out = linear1(x.view(x.size(0), -1))\n",
    "linear2_out = linear2(linear1_out)"
   ]
  },
  {
   "cell_type": "code",
   "execution_count": 5,
   "metadata": {},
   "outputs": [
    {
     "data": {
      "text/plain": [
       "KANClassification(\n",
       "  (conv_layers): ModuleList(\n",
       "    (0): ConvKANLayer(\n",
       "      (kan_layers): ModuleList(\n",
       "        (0-1): 2 x KAN(\n",
       "          (layers): ModuleList(\n",
       "            (0): KANLayer(\n",
       "              (base_activation): Tanh()\n",
       "              (layer_norm): LayerNorm((9,), eps=1e-05, elementwise_affine=False)\n",
       "              (prelu): PReLU(num_parameters=1)\n",
       "            )\n",
       "          )\n",
       "        )\n",
       "      )\n",
       "      (kan_network): KAN(\n",
       "        (layers): ModuleList(\n",
       "          (0): KANLayer(\n",
       "            (base_activation): Tanh()\n",
       "            (layer_norm): LayerNorm((9,), eps=1e-05, elementwise_affine=False)\n",
       "            (prelu): PReLU(num_parameters=1)\n",
       "          )\n",
       "        )\n",
       "      )\n",
       "    )\n",
       "    (1): MaxPool2d(kernel_size=3, stride=3, padding=0, dilation=1, ceil_mode=False)\n",
       "    (2): ConvKANLayer(\n",
       "      (kan_layers): ModuleList(\n",
       "        (0-1): 2 x KAN(\n",
       "          (layers): ModuleList(\n",
       "            (0): KANLayer(\n",
       "              (base_activation): Tanh()\n",
       "              (layer_norm): LayerNorm((18,), eps=1e-05, elementwise_affine=False)\n",
       "              (prelu): PReLU(num_parameters=1)\n",
       "            )\n",
       "          )\n",
       "        )\n",
       "      )\n",
       "      (kan_network): KAN(\n",
       "        (layers): ModuleList(\n",
       "          (0): KANLayer(\n",
       "            (base_activation): Tanh()\n",
       "            (layer_norm): LayerNorm((18,), eps=1e-05, elementwise_affine=False)\n",
       "            (prelu): PReLU(num_parameters=1)\n",
       "          )\n",
       "        )\n",
       "      )\n",
       "    )\n",
       "  )\n",
       "  (kan_network): KAN(\n",
       "    (layers): ModuleList(\n",
       "      (0): KANLayer(\n",
       "        (base_activation): Tanh()\n",
       "        (layer_norm): LayerNorm((36,), eps=1e-05, elementwise_affine=False)\n",
       "        (prelu): PReLU(num_parameters=1)\n",
       "      )\n",
       "      (1): KANLayer(\n",
       "        (base_activation): Tanh()\n",
       "        (layer_norm): LayerNorm((10,), eps=1e-05, elementwise_affine=False)\n",
       "        (prelu): PReLU(num_parameters=1)\n",
       "      )\n",
       "    )\n",
       "  )\n",
       ")"
      ]
     },
     "execution_count": 5,
     "metadata": {},
     "output_type": "execute_result"
    }
   ],
   "source": [
    "x = torch.randn(32, 1, 28, 28, dtype=torch.float32).to('cpu')\n",
    "model = KANClassification(input_channel=1, n_classes=10, device='cpu')\n",
    "model"
   ]
  },
  {
   "cell_type": "code",
   "execution_count": 6,
   "metadata": {},
   "outputs": [
    {
     "data": {
      "text/plain": [
       "6084"
      ]
     },
     "execution_count": 6,
     "metadata": {},
     "output_type": "execute_result"
    }
   ],
   "source": [
    "676 * 9"
   ]
  },
  {
   "cell_type": "code",
   "execution_count": 7,
   "metadata": {},
   "outputs": [],
   "source": [
    "x = torch.randn(32, 1, 28, 28).to('cpu')\n",
    "y = model(x)"
   ]
  },
  {
   "cell_type": "code",
   "execution_count": 8,
   "metadata": {},
   "outputs": [
    {
     "ename": "AttributeError",
     "evalue": "'KANClassification' object has no attribute 'forward_deprecated'",
     "output_type": "error",
     "traceback": [
      "\u001b[0;31m---------------------------------------------------------------------------\u001b[0m",
      "\u001b[0;31mAttributeError\u001b[0m                            Traceback (most recent call last)",
      "Cell \u001b[0;32mIn[8], line 1\u001b[0m\n\u001b[0;32m----> 1\u001b[0m y \u001b[38;5;241m=\u001b[39m \u001b[43mmodel\u001b[49m\u001b[38;5;241;43m.\u001b[39;49m\u001b[43mforward_deprecated\u001b[49m(x)\n",
      "File \u001b[0;32m~/miniforge3/envs/pykan-env/lib/python3.9/site-packages/torch/nn/modules/module.py:1709\u001b[0m, in \u001b[0;36mModule.__getattr__\u001b[0;34m(self, name)\u001b[0m\n\u001b[1;32m   1707\u001b[0m     \u001b[38;5;28;01mif\u001b[39;00m name \u001b[38;5;129;01min\u001b[39;00m modules:\n\u001b[1;32m   1708\u001b[0m         \u001b[38;5;28;01mreturn\u001b[39;00m modules[name]\n\u001b[0;32m-> 1709\u001b[0m \u001b[38;5;28;01mraise\u001b[39;00m \u001b[38;5;167;01mAttributeError\u001b[39;00m(\u001b[38;5;124mf\u001b[39m\u001b[38;5;124m\"\u001b[39m\u001b[38;5;124m'\u001b[39m\u001b[38;5;132;01m{\u001b[39;00m\u001b[38;5;28mtype\u001b[39m(\u001b[38;5;28mself\u001b[39m)\u001b[38;5;241m.\u001b[39m\u001b[38;5;18m__name__\u001b[39m\u001b[38;5;132;01m}\u001b[39;00m\u001b[38;5;124m'\u001b[39m\u001b[38;5;124m object has no attribute \u001b[39m\u001b[38;5;124m'\u001b[39m\u001b[38;5;132;01m{\u001b[39;00mname\u001b[38;5;132;01m}\u001b[39;00m\u001b[38;5;124m'\u001b[39m\u001b[38;5;124m\"\u001b[39m)\n",
      "\u001b[0;31mAttributeError\u001b[0m: 'KANClassification' object has no attribute 'forward_deprecated'"
     ]
    }
   ],
   "source": [
    "y = model.forward_deprecated(x)"
   ]
  }
 ],
 "metadata": {
  "kernelspec": {
   "display_name": "pykan-env",
   "language": "python",
   "name": "python3"
  },
  "language_info": {
   "codemirror_mode": {
    "name": "ipython",
    "version": 3
   },
   "file_extension": ".py",
   "mimetype": "text/x-python",
   "name": "python",
   "nbconvert_exporter": "python",
   "pygments_lexer": "ipython3",
   "version": "3.9.7"
  }
 },
 "nbformat": 4,
 "nbformat_minor": 2
}
